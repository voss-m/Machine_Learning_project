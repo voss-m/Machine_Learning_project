{
 "cells": [
  {
   "cell_type": "code",
   "execution_count": 2,
   "id": "golden-desire",
   "metadata": {},
   "outputs": [],
   "source": [
    "import numpy as np\n",
    "import pandas as pd\n",
    "import matplotlib.pyplot as plt\n",
    "import cv2\n",
    "from PIL import Image\n",
    "%matplotlib inline\n",
    "import pickle"
   ]
  },
  {
   "cell_type": "code",
   "execution_count": 4,
   "id": "changed-alarm",
   "metadata": {},
   "outputs": [
    {
     "name": "stdout",
     "output_type": "stream",
     "text": [
      "df_images_120_120.pickle\r\n"
     ]
    }
   ],
   "source": [
    "ls data"
   ]
  },
  {
   "cell_type": "code",
   "execution_count": 6,
   "id": "professional-transsexual",
   "metadata": {},
   "outputs": [],
   "source": [
    "df = pickle.load(open('./data/df_images_120_120.pickle','rb'))"
   ]
  },
  {
   "cell_type": "code",
   "execution_count": 7,
   "id": "whole-courtesy",
   "metadata": {},
   "outputs": [
    {
     "data": {
      "text/html": [
       "<div>\n",
       "<style scoped>\n",
       "    .dataframe tbody tr th:only-of-type {\n",
       "        vertical-align: middle;\n",
       "    }\n",
       "\n",
       "    .dataframe tbody tr th {\n",
       "        vertical-align: top;\n",
       "    }\n",
       "\n",
       "    .dataframe thead th {\n",
       "        text-align: right;\n",
       "    }\n",
       "</style>\n",
       "<table border=\"1\" class=\"dataframe\">\n",
       "  <thead>\n",
       "    <tr style=\"text-align: right;\">\n",
       "      <th></th>\n",
       "      <th>imie</th>\n",
       "      <th>0</th>\n",
       "      <th>1</th>\n",
       "      <th>2</th>\n",
       "      <th>3</th>\n",
       "      <th>4</th>\n",
       "      <th>5</th>\n",
       "      <th>6</th>\n",
       "      <th>7</th>\n",
       "      <th>8</th>\n",
       "      <th>...</th>\n",
       "      <th>14390</th>\n",
       "      <th>14391</th>\n",
       "      <th>14392</th>\n",
       "      <th>14393</th>\n",
       "      <th>14394</th>\n",
       "      <th>14395</th>\n",
       "      <th>14396</th>\n",
       "      <th>14397</th>\n",
       "      <th>14398</th>\n",
       "      <th>14399</th>\n",
       "    </tr>\n",
       "  </thead>\n",
       "  <tbody>\n",
       "    <tr>\n",
       "      <th>0</th>\n",
       "      <td>Bosak</td>\n",
       "      <td>167</td>\n",
       "      <td>170</td>\n",
       "      <td>173</td>\n",
       "      <td>177</td>\n",
       "      <td>176</td>\n",
       "      <td>178</td>\n",
       "      <td>176</td>\n",
       "      <td>175</td>\n",
       "      <td>177</td>\n",
       "      <td>...</td>\n",
       "      <td>14</td>\n",
       "      <td>16</td>\n",
       "      <td>16</td>\n",
       "      <td>20</td>\n",
       "      <td>23</td>\n",
       "      <td>28</td>\n",
       "      <td>28</td>\n",
       "      <td>31</td>\n",
       "      <td>35</td>\n",
       "      <td>37</td>\n",
       "    </tr>\n",
       "    <tr>\n",
       "      <th>2</th>\n",
       "      <td>Bosak</td>\n",
       "      <td>150</td>\n",
       "      <td>150</td>\n",
       "      <td>150</td>\n",
       "      <td>150</td>\n",
       "      <td>150</td>\n",
       "      <td>150</td>\n",
       "      <td>150</td>\n",
       "      <td>150</td>\n",
       "      <td>150</td>\n",
       "      <td>...</td>\n",
       "      <td>147</td>\n",
       "      <td>150</td>\n",
       "      <td>151</td>\n",
       "      <td>149</td>\n",
       "      <td>149</td>\n",
       "      <td>149</td>\n",
       "      <td>148</td>\n",
       "      <td>153</td>\n",
       "      <td>153</td>\n",
       "      <td>150</td>\n",
       "    </tr>\n",
       "    <tr>\n",
       "      <th>4</th>\n",
       "      <td>Bosak</td>\n",
       "      <td>150</td>\n",
       "      <td>150</td>\n",
       "      <td>149</td>\n",
       "      <td>150</td>\n",
       "      <td>150</td>\n",
       "      <td>149</td>\n",
       "      <td>150</td>\n",
       "      <td>150</td>\n",
       "      <td>150</td>\n",
       "      <td>...</td>\n",
       "      <td>119</td>\n",
       "      <td>119</td>\n",
       "      <td>119</td>\n",
       "      <td>119</td>\n",
       "      <td>119</td>\n",
       "      <td>119</td>\n",
       "      <td>117</td>\n",
       "      <td>119</td>\n",
       "      <td>121</td>\n",
       "      <td>141</td>\n",
       "    </tr>\n",
       "    <tr>\n",
       "      <th>5</th>\n",
       "      <td>Bosak</td>\n",
       "      <td>149</td>\n",
       "      <td>151</td>\n",
       "      <td>150</td>\n",
       "      <td>150</td>\n",
       "      <td>149</td>\n",
       "      <td>149</td>\n",
       "      <td>150</td>\n",
       "      <td>150</td>\n",
       "      <td>151</td>\n",
       "      <td>...</td>\n",
       "      <td>150</td>\n",
       "      <td>149</td>\n",
       "      <td>149</td>\n",
       "      <td>149</td>\n",
       "      <td>148</td>\n",
       "      <td>150</td>\n",
       "      <td>150</td>\n",
       "      <td>148</td>\n",
       "      <td>150</td>\n",
       "      <td>150</td>\n",
       "    </tr>\n",
       "    <tr>\n",
       "      <th>6</th>\n",
       "      <td>Bosak</td>\n",
       "      <td>150</td>\n",
       "      <td>149</td>\n",
       "      <td>149</td>\n",
       "      <td>150</td>\n",
       "      <td>150</td>\n",
       "      <td>149</td>\n",
       "      <td>150</td>\n",
       "      <td>151</td>\n",
       "      <td>150</td>\n",
       "      <td>...</td>\n",
       "      <td>150</td>\n",
       "      <td>150</td>\n",
       "      <td>150</td>\n",
       "      <td>150</td>\n",
       "      <td>149</td>\n",
       "      <td>149</td>\n",
       "      <td>149</td>\n",
       "      <td>149</td>\n",
       "      <td>149</td>\n",
       "      <td>151</td>\n",
       "    </tr>\n",
       "  </tbody>\n",
       "</table>\n",
       "<p>5 rows × 14401 columns</p>\n",
       "</div>"
      ],
      "text/plain": [
       "    imie    0    1    2    3    4    5    6    7    8  ...  14390  14391  \\\n",
       "0  Bosak  167  170  173  177  176  178  176  175  177  ...     14     16   \n",
       "2  Bosak  150  150  150  150  150  150  150  150  150  ...    147    150   \n",
       "4  Bosak  150  150  149  150  150  149  150  150  150  ...    119    119   \n",
       "5  Bosak  149  151  150  150  149  149  150  150  151  ...    150    149   \n",
       "6  Bosak  150  149  149  150  150  149  150  151  150  ...    150    150   \n",
       "\n",
       "   14392  14393  14394  14395  14396  14397  14398  14399  \n",
       "0     16     20     23     28     28     31     35     37  \n",
       "2    151    149    149    149    148    153    153    150  \n",
       "4    119    119    119    119    117    119    121    141  \n",
       "5    149    149    148    150    150    148    150    150  \n",
       "6    150    150    149    149    149    149    149    151  \n",
       "\n",
       "[5 rows x 14401 columns]"
      ]
     },
     "execution_count": 7,
     "metadata": {},
     "output_type": "execute_result"
    }
   ],
   "source": [
    "df.head()"
   ]
  },
  {
   "cell_type": "code",
   "execution_count": 8,
   "id": "flush-specialist",
   "metadata": {},
   "outputs": [
    {
     "data": {
      "text/plain": [
       "imie     0\n",
       "0        0\n",
       "1        0\n",
       "2        0\n",
       "3        0\n",
       "        ..\n",
       "14395    0\n",
       "14396    0\n",
       "14397    0\n",
       "14398    0\n",
       "14399    0\n",
       "Length: 14401, dtype: int64"
      ]
     },
     "execution_count": 8,
     "metadata": {},
     "output_type": "execute_result"
    }
   ],
   "source": [
    "#checking for missing values\n",
    "df.isnull().sum()"
   ]
  },
  {
   "cell_type": "code",
   "execution_count": 10,
   "id": "derived-criticism",
   "metadata": {},
   "outputs": [],
   "source": [
    "df.dropna(axis=0,inplace=True)"
   ]
  },
  {
   "cell_type": "code",
   "execution_count": 11,
   "id": "distant-mystery",
   "metadata": {},
   "outputs": [],
   "source": [
    "X = df.iloc[:,1:].values #independent\n",
    "y = df.iloc[:,0].values"
   ]
  },
  {
   "cell_type": "code",
   "execution_count": 12,
   "id": "studied-blind",
   "metadata": {},
   "outputs": [
    {
     "data": {
      "text/plain": [
       "(223, 14400)"
      ]
     },
     "execution_count": 12,
     "metadata": {},
     "output_type": "execute_result"
    }
   ],
   "source": [
    "X.shape\n",
    "#Min Max Scalling\n",
    "Xnorm = (x - minValue) / (maxValue - minValue)"
   ]
  },
  {
   "cell_type": "code",
   "execution_count": 13,
   "id": "wanted-confidentiality",
   "metadata": {},
   "outputs": [
    {
     "data": {
      "text/plain": [
       "(0, 255)"
      ]
     },
     "execution_count": 13,
     "metadata": {},
     "output_type": "execute_result"
    }
   ],
   "source": [
    "X.min(), X.max()"
   ]
  },
  {
   "cell_type": "code",
   "execution_count": 14,
   "id": "wooden-temple",
   "metadata": {},
   "outputs": [],
   "source": [
    "X_norm = X/X.max()"
   ]
  },
  {
   "cell_type": "code",
   "execution_count": 15,
   "id": "nearby-district",
   "metadata": {},
   "outputs": [
    {
     "data": {
      "text/plain": [
       "(223, 14400)"
      ]
     },
     "execution_count": 15,
     "metadata": {},
     "output_type": "execute_result"
    }
   ],
   "source": [
    "X_norm.shape"
   ]
  },
  {
   "cell_type": "code",
   "execution_count": 18,
   "id": "concerned-hudson",
   "metadata": {},
   "outputs": [],
   "source": [
    "#Bosak = 0, Tusk = 1\n",
    "y_norm = np.where(y=='Tusk',1,0)"
   ]
  },
  {
   "cell_type": "code",
   "execution_count": 20,
   "id": "according-departure",
   "metadata": {},
   "outputs": [],
   "source": [
    "np.savez('./data/data_120_120_norm',X_norm,y_norm)"
   ]
  },
  {
   "cell_type": "code",
   "execution_count": 21,
   "id": "interstate-latest",
   "metadata": {},
   "outputs": [],
   "source": [
    "# save x and y in numpy zip\n",
    "np.savez('./data/data_14400_norm.npz',X_norm,y_norm)"
   ]
  }
 ],
 "metadata": {
  "kernelspec": {
   "display_name": "Python 3",
   "language": "python",
   "name": "python3"
  },
  "language_info": {
   "codemirror_mode": {
    "name": "ipython",
    "version": 3
   },
   "file_extension": ".py",
   "mimetype": "text/x-python",
   "name": "python",
   "nbconvert_exporter": "python",
   "pygments_lexer": "ipython3",
   "version": "3.6.12"
  }
 },
 "nbformat": 4,
 "nbformat_minor": 5
}
