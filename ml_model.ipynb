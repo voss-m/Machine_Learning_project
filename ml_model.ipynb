{
 "cells": [
  {
   "cell_type": "code",
   "execution_count": 61,
   "id": "greenhouse-semiconductor",
   "metadata": {},
   "outputs": [],
   "source": [
    "import warnings\n",
    "warnings.filterwarnings('ignore')\n",
    "import numpy as np\n",
    "import pandas as pd\n",
    "import matplotlib.pyplot as plt\n",
    "from sklearn.decomposition import PCA\n",
    "%matplotlib inline"
   ]
  },
  {
   "cell_type": "code",
   "execution_count": 62,
   "id": "remarkable-router",
   "metadata": {},
   "outputs": [
    {
     "name": "stdout",
     "output_type": "stream",
     "text": [
      "data_120_120_norm.npz               data_pca_200_y_mean.pickle.npz\r\n",
      "data_14400_norm.npz                 data_pca_250_y_mean.pickle.npz\r\n",
      "data_all_10000_norm.npz             data_pca_50_y_mean.pickle.npz\r\n",
      "data_all_100_100_norm.npz           df_all_images_100_100.pickle\r\n",
      "data_all_120_120_norm.npz           df_all_images_120_120.pickle\r\n",
      "data_all_14400_norm.npz             df_clean_all_images_100_100.pickle\r\n",
      "data_clean_all_14400_norm.npz       df_clean_all_images_120_120.pickle\r\n",
      "data_pca_120_y_mean.pickle.npz      df_images_120_120.pickle\r\n"
     ]
    }
   ],
   "source": [
    "ls data"
   ]
  },
  {
   "cell_type": "code",
   "execution_count": 63,
   "id": "fallen-celebration",
   "metadata": {},
   "outputs": [],
   "source": [
    "data = np.load('./data/data_pca_250_y_mean.pickle.npz')"
   ]
  },
  {
   "cell_type": "code",
   "execution_count": 64,
   "id": "amino-runner",
   "metadata": {},
   "outputs": [],
   "source": [
    "X = data['arr_0']\n",
    "y = data['arr_1']\n",
    "mean = data['arr_2']"
   ]
  },
  {
   "cell_type": "code",
   "execution_count": 65,
   "id": "ultimate-pharmacy",
   "metadata": {},
   "outputs": [],
   "source": [
    "from sklearn.model_selection import train_test_split\n",
    "x_train, x_test, y_train,y_test = train_test_split(X,y,test_size=0.2,stratify=y)"
   ]
  },
  {
   "cell_type": "code",
   "execution_count": 66,
   "id": "comic-biology",
   "metadata": {},
   "outputs": [
    {
     "data": {
      "text/plain": [
       "((2068, 250), (518, 250))"
      ]
     },
     "execution_count": 66,
     "metadata": {},
     "output_type": "execute_result"
    }
   ],
   "source": [
    "x_train.shape , x_test.shape"
   ]
  },
  {
   "cell_type": "code",
   "execution_count": 67,
   "id": "secret-taxation",
   "metadata": {},
   "outputs": [],
   "source": [
    "#Training the model - SVM\n",
    "from sklearn.svm import SVC"
   ]
  },
  {
   "cell_type": "code",
   "execution_count": 68,
   "id": "floral-dimension",
   "metadata": {},
   "outputs": [],
   "source": [
    "model = SVC(C=1.0, kernel='rbf', gamma=0.01, probability=True)"
   ]
  },
  {
   "cell_type": "code",
   "execution_count": 69,
   "id": "certified-steam",
   "metadata": {},
   "outputs": [
    {
     "data": {
      "text/plain": [
       "SVC(gamma=0.01, probability=True)"
      ]
     },
     "execution_count": 69,
     "metadata": {},
     "output_type": "execute_result"
    }
   ],
   "source": [
    "model.fit(x_train, y_train)"
   ]
  },
  {
   "cell_type": "code",
   "execution_count": 70,
   "id": "removed-exercise",
   "metadata": {},
   "outputs": [
    {
     "data": {
      "text/plain": [
       "0.9995164410058027"
      ]
     },
     "execution_count": 70,
     "metadata": {},
     "output_type": "execute_result"
    }
   ],
   "source": [
    "#score\n",
    "model.score(x_train, y_train)"
   ]
  },
  {
   "cell_type": "code",
   "execution_count": 71,
   "id": "corrected-beverage",
   "metadata": {},
   "outputs": [
    {
     "data": {
      "text/plain": [
       "0.5675675675675675"
      ]
     },
     "execution_count": 71,
     "metadata": {},
     "output_type": "execute_result"
    }
   ],
   "source": [
    "model.score(x_test, y_test)"
   ]
  },
  {
   "cell_type": "markdown",
   "id": "caring-headset",
   "metadata": {},
   "source": [
    "Model Evaluation\n",
    "- Confusion Matrix\n",
    "- Classification Report\n",
    "- Kappa Score \n",
    "- ROC and AUC (probability)"
   ]
  },
  {
   "cell_type": "code",
   "execution_count": 72,
   "id": "applied-hydrogen",
   "metadata": {},
   "outputs": [],
   "source": [
    "from sklearn import metrics"
   ]
  },
  {
   "cell_type": "code",
   "execution_count": 73,
   "id": "cubic-outdoors",
   "metadata": {},
   "outputs": [],
   "source": [
    "y_pred = model.predict(x_test)\n",
    "y_prob = model.predict_proba(x_test) #probability"
   ]
  },
  {
   "cell_type": "code",
   "execution_count": 77,
   "id": "aboriginal-shooting",
   "metadata": {},
   "outputs": [
    {
     "data": {
      "text/plain": [
       "Text(0, 0.5, 'True Values')"
      ]
     },
     "execution_count": 77,
     "metadata": {},
     "output_type": "execute_result"
    },
    {
     "data": {
      "image/png": "[encoded data removed]",
      "text/plain": [
       "<Figure size 432x288 with 1 Axes>"
      ]
     },
     "metadata": {
      "needs_background": "light"
     },
     "output_type": "display_data"
    }
   ],
   "source": [
    "cm = metrics.confusion_matrix(y_test, y_pred)\n",
    "cm = np.concatenate((cm,cm.sum(axis=0).reshape(1,-1)), axis=0)\n",
    "cm = np.concatenate((cm,cm.sum(axis=1).reshape(-1,1)), axis=1)\n",
    "\n",
    "\n",
    "plt.imshow(cm)\n",
    "for i in range(14):\n",
    "    for j in range(14):\n",
    "        plt.text(i,j,cm[i,j])\n",
    "plt.xticks([0,14])\n",
    "plt.yticks([0,14])\n",
    "plt.xlabel('Predicted Value')\n",
    "plt.ylabel('True Values')"
   ]
  },
  {
   "cell_type": "code",
   "execution_count": 78,
   "id": "inside-lawsuit",
   "metadata": {},
   "outputs": [
    {
     "data": {
      "text/html": [
       "<div>\n",
       "<style scoped>\n",
       "    .dataframe tbody tr th:only-of-type {\n",
       "        vertical-align: middle;\n",
       "    }\n",
       "\n",
       "    .dataframe tbody tr th {\n",
       "        vertical-align: top;\n",
       "    }\n",
       "\n",
       "    .dataframe thead th {\n",
       "        text-align: right;\n",
       "    }\n",
       "</style>\n",
       "<table border=\"1\" class=\"dataframe\">\n",
       "  <thead>\n",
       "    <tr style=\"text-align: right;\">\n",
       "      <th></th>\n",
       "      <th>precision</th>\n",
       "      <th>recall</th>\n",
       "      <th>f1-score</th>\n",
       "      <th>support</th>\n",
       "    </tr>\n",
       "  </thead>\n",
       "  <tbody>\n",
       "    <tr>\n",
       "      <th>Biedron</th>\n",
       "      <td>0.916667</td>\n",
       "      <td>0.305556</td>\n",
       "      <td>0.458333</td>\n",
       "      <td>36.000000</td>\n",
       "    </tr>\n",
       "    <tr>\n",
       "      <th>Bosak</th>\n",
       "      <td>0.806452</td>\n",
       "      <td>0.609756</td>\n",
       "      <td>0.694444</td>\n",
       "      <td>41.000000</td>\n",
       "    </tr>\n",
       "    <tr>\n",
       "      <th>Duda</th>\n",
       "      <td>0.615385</td>\n",
       "      <td>0.666667</td>\n",
       "      <td>0.640000</td>\n",
       "      <td>48.000000</td>\n",
       "    </tr>\n",
       "    <tr>\n",
       "      <th>Grodzka</th>\n",
       "      <td>1.000000</td>\n",
       "      <td>0.200000</td>\n",
       "      <td>0.333333</td>\n",
       "      <td>25.000000</td>\n",
       "    </tr>\n",
       "    <tr>\n",
       "      <th>Holownia</th>\n",
       "      <td>0.760000</td>\n",
       "      <td>0.463415</td>\n",
       "      <td>0.575758</td>\n",
       "      <td>41.000000</td>\n",
       "    </tr>\n",
       "    <tr>\n",
       "      <th>Kaczynski</th>\n",
       "      <td>0.825000</td>\n",
       "      <td>0.673469</td>\n",
       "      <td>0.741573</td>\n",
       "      <td>49.000000</td>\n",
       "    </tr>\n",
       "    <tr>\n",
       "      <th>Kalisz</th>\n",
       "      <td>1.000000</td>\n",
       "      <td>0.161290</td>\n",
       "      <td>0.277778</td>\n",
       "      <td>31.000000</td>\n",
       "    </tr>\n",
       "    <tr>\n",
       "      <th>Komorowski</th>\n",
       "      <td>0.956522</td>\n",
       "      <td>0.578947</td>\n",
       "      <td>0.721311</td>\n",
       "      <td>38.000000</td>\n",
       "    </tr>\n",
       "    <tr>\n",
       "      <th>Korwin-Mikke</th>\n",
       "      <td>1.000000</td>\n",
       "      <td>0.500000</td>\n",
       "      <td>0.666667</td>\n",
       "      <td>36.000000</td>\n",
       "    </tr>\n",
       "    <tr>\n",
       "      <th>Miller</th>\n",
       "      <td>1.000000</td>\n",
       "      <td>0.333333</td>\n",
       "      <td>0.500000</td>\n",
       "      <td>27.000000</td>\n",
       "    </tr>\n",
       "    <tr>\n",
       "      <th>Szydlo</th>\n",
       "      <td>0.228571</td>\n",
       "      <td>1.000000</td>\n",
       "      <td>0.372093</td>\n",
       "      <td>48.000000</td>\n",
       "    </tr>\n",
       "    <tr>\n",
       "      <th>Trzaskowski</th>\n",
       "      <td>0.770833</td>\n",
       "      <td>0.740000</td>\n",
       "      <td>0.755102</td>\n",
       "      <td>50.000000</td>\n",
       "    </tr>\n",
       "    <tr>\n",
       "      <th>Tusk</th>\n",
       "      <td>0.750000</td>\n",
       "      <td>0.625000</td>\n",
       "      <td>0.681818</td>\n",
       "      <td>48.000000</td>\n",
       "    </tr>\n",
       "    <tr>\n",
       "      <th>accuracy</th>\n",
       "      <td>0.567568</td>\n",
       "      <td>0.567568</td>\n",
       "      <td>0.567568</td>\n",
       "      <td>0.567568</td>\n",
       "    </tr>\n",
       "    <tr>\n",
       "      <th>macro avg</th>\n",
       "      <td>0.817648</td>\n",
       "      <td>0.527495</td>\n",
       "      <td>0.570632</td>\n",
       "      <td>518.000000</td>\n",
       "    </tr>\n",
       "    <tr>\n",
       "      <th>weighted avg</th>\n",
       "      <td>0.787739</td>\n",
       "      <td>0.567568</td>\n",
       "      <td>0.590410</td>\n",
       "      <td>518.000000</td>\n",
       "    </tr>\n",
       "  </tbody>\n",
       "</table>\n",
       "</div>"
      ],
      "text/plain": [
       "              precision    recall  f1-score     support\n",
       "Biedron        0.916667  0.305556  0.458333   36.000000\n",
       "Bosak          0.806452  0.609756  0.694444   41.000000\n",
       "Duda           0.615385  0.666667  0.640000   48.000000\n",
       "Grodzka        1.000000  0.200000  0.333333   25.000000\n",
       "Holownia       0.760000  0.463415  0.575758   41.000000\n",
       "Kaczynski      0.825000  0.673469  0.741573   49.000000\n",
       "Kalisz         1.000000  0.161290  0.277778   31.000000\n",
       "Komorowski     0.956522  0.578947  0.721311   38.000000\n",
       "Korwin-Mikke   1.000000  0.500000  0.666667   36.000000\n",
       "Miller         1.000000  0.333333  0.500000   27.000000\n",
       "Szydlo         0.228571  1.000000  0.372093   48.000000\n",
       "Trzaskowski    0.770833  0.740000  0.755102   50.000000\n",
       "Tusk           0.750000  0.625000  0.681818   48.000000\n",
       "accuracy       0.567568  0.567568  0.567568    0.567568\n",
       "macro avg      0.817648  0.527495  0.570632  518.000000\n",
       "weighted avg   0.787739  0.567568  0.590410  518.000000"
      ]
     },
     "execution_count": 78,
     "metadata": {},
     "output_type": "execute_result"
    }
   ],
   "source": [
    "cr = metrics.classification_report(y_test, y_pred, target_names=['Biedron','Bosak','Duda','Grodzka','Holownia','Kaczynski','Kalisz','Komorowski','Korwin-Mikke','Miller','Szydlo','Trzaskowski','Tusk'],output_dict=True)\n",
    "pd.DataFrame(cr).T"
   ]
  },
  {
   "cell_type": "code",
   "execution_count": 79,
   "id": "monthly-pharmacy",
   "metadata": {},
   "outputs": [
    {
     "data": {
      "text/plain": [
       "0.5258096814401602"
      ]
     },
     "execution_count": 79,
     "metadata": {},
     "output_type": "execute_result"
    }
   ],
   "source": [
    "#Kappa score - random accuracy\n",
    "metrics.cohen_kappa_score(y_test, y_pred)\n",
    "#Should be more than 60%!"
   ]
  },
  {
   "cell_type": "code",
   "execution_count": 80,
   "id": "amazing-italy",
   "metadata": {},
   "outputs": [],
   "source": [
    "from sklearn.model_selection import GridSearchCV"
   ]
  },
  {
   "cell_type": "code",
   "execution_count": 81,
   "id": "differential-marine",
   "metadata": {},
   "outputs": [],
   "source": [
    "model_tune = SVC()"
   ]
  },
  {
   "cell_type": "code",
   "execution_count": 82,
   "id": "hollywood-damage",
   "metadata": {},
   "outputs": [],
   "source": [
    "param_grid = {'C':[1,10,20,30,50,100],\n",
    "             'kernel':['rbf','poly'],\n",
    "             'gamma':[0.1,0.05,0.01,0.001,0.002],\n",
    "             'coef0':[0,1]}"
   ]
  },
  {
   "cell_type": "code",
   "execution_count": 83,
   "id": "moved-proposition",
   "metadata": {},
   "outputs": [],
   "source": [
    "#Hyper Parameter Tuning\n",
    "model_grid = GridSearchCV(model_tune, param_grid=param_grid,scoring='accuracy',cv=5,verbose=1)"
   ]
  },
  {
   "cell_type": "code",
   "execution_count": 84,
   "id": "selective-rebound",
   "metadata": {},
   "outputs": [
    {
     "name": "stdout",
     "output_type": "stream",
     "text": [
      "Fitting 5 folds for each of 120 candidates, totalling 600 fits\n"
     ]
    },
    {
     "data": {
      "text/plain": [
       "GridSearchCV(cv=5, estimator=SVC(),\n",
       "             param_grid={'C': [1, 10, 20, 30, 50, 100], 'coef0': [0, 1],\n",
       "                         'gamma': [0.1, 0.05, 0.01, 0.001, 0.002],\n",
       "                         'kernel': ['rbf', 'poly']},\n",
       "             scoring='accuracy', verbose=1)"
      ]
     },
     "execution_count": 84,
     "metadata": {},
     "output_type": "execute_result"
    }
   ],
   "source": [
    "model_grid.fit(X,y)"
   ]
  },
  {
   "cell_type": "code",
   "execution_count": 86,
   "id": "pediatric-contributor",
   "metadata": {},
   "outputs": [
    {
     "data": {
      "text/plain": [
       "{'C': 20, 'coef0': 0, 'gamma': 0.002, 'kernel': 'rbf'}"
      ]
     },
     "execution_count": 86,
     "metadata": {},
     "output_type": "execute_result"
    }
   ],
   "source": [
    "model_grid.best_params_"
   ]
  },
  {
   "cell_type": "code",
   "execution_count": 87,
   "id": "committed-distribution",
   "metadata": {},
   "outputs": [
    {
     "data": {
      "text/plain": [
       "0.77764351806905"
      ]
     },
     "execution_count": 87,
     "metadata": {},
     "output_type": "execute_result"
    }
   ],
   "source": [
    "model_grid.best_score_"
   ]
  },
  {
   "cell_type": "code",
   "execution_count": 88,
   "id": "hundred-gibson",
   "metadata": {},
   "outputs": [],
   "source": [
    "model_best = SVC(C=20,kernel='rbf',gamma=0.002,coef0=0, probability=True)"
   ]
  },
  {
   "cell_type": "code",
   "execution_count": 89,
   "id": "usual-repository",
   "metadata": {},
   "outputs": [
    {
     "data": {
      "text/plain": [
       "0.8204633204633205"
      ]
     },
     "execution_count": 89,
     "metadata": {},
     "output_type": "execute_result"
    }
   ],
   "source": [
    "model_best.fit(x_train, y_train)\n",
    "model_best.score(x_test,y_test)"
   ]
  },
  {
   "cell_type": "code",
   "execution_count": 90,
   "id": "tropical-mention",
   "metadata": {},
   "outputs": [],
   "source": [
    "y_pred = model_best.predict(x_test)\n",
    "y_prob = model_best.predict_proba(x_test) #probability"
   ]
  },
  {
   "cell_type": "code",
   "execution_count": 92,
   "id": "collective-adolescent",
   "metadata": {},
   "outputs": [
    {
     "data": {
      "text/plain": [
       "Text(0, 0.5, 'True Values')"
      ]
     },
     "execution_count": 92,
     "metadata": {},
     "output_type": "execute_result"
    },
    {
     "data": {
      "image/png": "[encoded data removed]",
      "text/plain": [
       "<Figure size 432x288 with 1 Axes>"
      ]
     },
     "metadata": {
      "needs_background": "light"
     },
     "output_type": "display_data"
    }
   ],
   "source": [
    "cm = metrics.confusion_matrix(y_test, y_pred)\n",
    "cm = np.concatenate((cm,cm.sum(axis=0).reshape(1,-1)), axis=0)\n",
    "cm = np.concatenate((cm,cm.sum(axis=1).reshape(-1,1)), axis=1)\n",
    "\n",
    "\n",
    "plt.imshow(cm)\n",
    "for i in range(14):\n",
    "    for j in range(14):\n",
    "        plt.text(i,j,cm[i,j])\n",
    "plt.xticks([0,14])\n",
    "plt.yticks([0,14])\n",
    "plt.xlabel('Predicted Value')\n",
    "plt.ylabel('True Values')"
   ]
  },
  {
   "cell_type": "code",
   "execution_count": 93,
   "id": "rubber-helena",
   "metadata": {},
   "outputs": [
    {
     "data": {
      "text/html": [
       "<div>\n",
       "<style scoped>\n",
       "    .dataframe tbody tr th:only-of-type {\n",
       "        vertical-align: middle;\n",
       "    }\n",
       "\n",
       "    .dataframe tbody tr th {\n",
       "        vertical-align: top;\n",
       "    }\n",
       "\n",
       "    .dataframe thead th {\n",
       "        text-align: right;\n",
       "    }\n",
       "</style>\n",
       "<table border=\"1\" class=\"dataframe\">\n",
       "  <thead>\n",
       "    <tr style=\"text-align: right;\">\n",
       "      <th></th>\n",
       "      <th>precision</th>\n",
       "      <th>recall</th>\n",
       "      <th>f1-score</th>\n",
       "      <th>support</th>\n",
       "    </tr>\n",
       "  </thead>\n",
       "  <tbody>\n",
       "    <tr>\n",
       "      <th>Biedron</th>\n",
       "      <td>0.764706</td>\n",
       "      <td>0.722222</td>\n",
       "      <td>0.742857</td>\n",
       "      <td>36.000000</td>\n",
       "    </tr>\n",
       "    <tr>\n",
       "      <th>Bosak</th>\n",
       "      <td>0.654545</td>\n",
       "      <td>0.878049</td>\n",
       "      <td>0.750000</td>\n",
       "      <td>41.000000</td>\n",
       "    </tr>\n",
       "    <tr>\n",
       "      <th>Duda</th>\n",
       "      <td>0.759259</td>\n",
       "      <td>0.854167</td>\n",
       "      <td>0.803922</td>\n",
       "      <td>48.000000</td>\n",
       "    </tr>\n",
       "    <tr>\n",
       "      <th>Grodzka</th>\n",
       "      <td>0.904762</td>\n",
       "      <td>0.760000</td>\n",
       "      <td>0.826087</td>\n",
       "      <td>25.000000</td>\n",
       "    </tr>\n",
       "    <tr>\n",
       "      <th>Holownia</th>\n",
       "      <td>0.789474</td>\n",
       "      <td>0.731707</td>\n",
       "      <td>0.759494</td>\n",
       "      <td>41.000000</td>\n",
       "    </tr>\n",
       "    <tr>\n",
       "      <th>Kaczynski</th>\n",
       "      <td>0.851064</td>\n",
       "      <td>0.816327</td>\n",
       "      <td>0.833333</td>\n",
       "      <td>49.000000</td>\n",
       "    </tr>\n",
       "    <tr>\n",
       "      <th>Kalisz</th>\n",
       "      <td>0.756757</td>\n",
       "      <td>0.903226</td>\n",
       "      <td>0.823529</td>\n",
       "      <td>31.000000</td>\n",
       "    </tr>\n",
       "    <tr>\n",
       "      <th>Komorowski</th>\n",
       "      <td>0.805556</td>\n",
       "      <td>0.763158</td>\n",
       "      <td>0.783784</td>\n",
       "      <td>38.000000</td>\n",
       "    </tr>\n",
       "    <tr>\n",
       "      <th>Korwin-Mikke</th>\n",
       "      <td>0.789474</td>\n",
       "      <td>0.833333</td>\n",
       "      <td>0.810811</td>\n",
       "      <td>36.000000</td>\n",
       "    </tr>\n",
       "    <tr>\n",
       "      <th>Miller</th>\n",
       "      <td>0.791667</td>\n",
       "      <td>0.703704</td>\n",
       "      <td>0.745098</td>\n",
       "      <td>27.000000</td>\n",
       "    </tr>\n",
       "    <tr>\n",
       "      <th>Szydlo</th>\n",
       "      <td>0.957447</td>\n",
       "      <td>0.937500</td>\n",
       "      <td>0.947368</td>\n",
       "      <td>48.000000</td>\n",
       "    </tr>\n",
       "    <tr>\n",
       "      <th>Trzaskowski</th>\n",
       "      <td>0.934783</td>\n",
       "      <td>0.860000</td>\n",
       "      <td>0.895833</td>\n",
       "      <td>50.000000</td>\n",
       "    </tr>\n",
       "    <tr>\n",
       "      <th>Tusk</th>\n",
       "      <td>0.951220</td>\n",
       "      <td>0.812500</td>\n",
       "      <td>0.876404</td>\n",
       "      <td>48.000000</td>\n",
       "    </tr>\n",
       "    <tr>\n",
       "      <th>accuracy</th>\n",
       "      <td>0.820463</td>\n",
       "      <td>0.820463</td>\n",
       "      <td>0.820463</td>\n",
       "      <td>0.820463</td>\n",
       "    </tr>\n",
       "    <tr>\n",
       "      <th>macro avg</th>\n",
       "      <td>0.823901</td>\n",
       "      <td>0.813530</td>\n",
       "      <td>0.815271</td>\n",
       "      <td>518.000000</td>\n",
       "    </tr>\n",
       "    <tr>\n",
       "      <th>weighted avg</th>\n",
       "      <td>0.829578</td>\n",
       "      <td>0.820463</td>\n",
       "      <td>0.821735</td>\n",
       "      <td>518.000000</td>\n",
       "    </tr>\n",
       "  </tbody>\n",
       "</table>\n",
       "</div>"
      ],
      "text/plain": [
       "              precision    recall  f1-score     support\n",
       "Biedron        0.764706  0.722222  0.742857   36.000000\n",
       "Bosak          0.654545  0.878049  0.750000   41.000000\n",
       "Duda           0.759259  0.854167  0.803922   48.000000\n",
       "Grodzka        0.904762  0.760000  0.826087   25.000000\n",
       "Holownia       0.789474  0.731707  0.759494   41.000000\n",
       "Kaczynski      0.851064  0.816327  0.833333   49.000000\n",
       "Kalisz         0.756757  0.903226  0.823529   31.000000\n",
       "Komorowski     0.805556  0.763158  0.783784   38.000000\n",
       "Korwin-Mikke   0.789474  0.833333  0.810811   36.000000\n",
       "Miller         0.791667  0.703704  0.745098   27.000000\n",
       "Szydlo         0.957447  0.937500  0.947368   48.000000\n",
       "Trzaskowski    0.934783  0.860000  0.895833   50.000000\n",
       "Tusk           0.951220  0.812500  0.876404   48.000000\n",
       "accuracy       0.820463  0.820463  0.820463    0.820463\n",
       "macro avg      0.823901  0.813530  0.815271  518.000000\n",
       "weighted avg   0.829578  0.820463  0.821735  518.000000"
      ]
     },
     "execution_count": 93,
     "metadata": {},
     "output_type": "execute_result"
    }
   ],
   "source": [
    "cr = metrics.classification_report(y_test, y_pred, target_names=['Biedron','Bosak','Duda','Grodzka','Holownia','Kaczynski','Kalisz','Komorowski','Korwin-Mikke','Miller','Szydlo','Trzaskowski','Tusk'],output_dict=True)\n",
    "pd.DataFrame(cr).T"
   ]
  },
  {
   "cell_type": "code",
   "execution_count": 94,
   "id": "alone-waterproof",
   "metadata": {},
   "outputs": [],
   "source": [
    "#saving model\n",
    "import pickle\n",
    "pickle.dump(model_best,open('./model/clean_model_svm.pickle','wb'))"
   ]
  },
  {
   "cell_type": "code",
   "execution_count": 95,
   "id": "divided-mitchell",
   "metadata": {},
   "outputs": [],
   "source": [
    "pickle.dump(mean,open('./model/clean_mean_preprocess.pickle','wb'))"
   ]
  }
 ],
 "metadata": {
  "kernelspec": {
   "display_name": "Python 3",
   "language": "python",
   "name": "python3"
  },
  "language_info": {
   "codemirror_mode": {
    "name": "ipython",
    "version": 3
   },
   "file_extension": ".py",
   "mimetype": "text/x-python",
   "name": "python",
   "nbconvert_exporter": "python",
   "pygments_lexer": "ipython3",
   "version": "3.6.12"
  }
 },
 "nbformat": 4,
 "nbformat_minor": 5
}
