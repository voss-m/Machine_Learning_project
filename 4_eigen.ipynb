{
 "cells": [
  {
   "cell_type": "code",
   "execution_count": 53,
   "id": "close-label",
   "metadata": {},
   "outputs": [],
   "source": [
    "import numpy as np\n",
    "import pandas as pd\n",
    "import matplotlib.pyplot as plt\n",
    "import cv2\n",
    "from PIL import Image\n",
    "%matplotlib inline\n",
    "from glob import glob"
   ]
  },
  {
   "cell_type": "code",
   "execution_count": 54,
   "id": "contemporary-cabin",
   "metadata": {},
   "outputs": [],
   "source": [
    "data = np.load('./data/data_clean_all_14400_norm.npz')"
   ]
  },
  {
   "cell_type": "code",
   "execution_count": 74,
   "id": "tropical-society",
   "metadata": {},
   "outputs": [
    {
     "name": "stdout",
     "output_type": "stream",
     "text": [
      "[[0.58431373 0.58823529 0.58431373 ... 0.50196078 0.49411765 0.58039216]\n",
      " [0.58823529 0.59215686 0.58039216 ... 0.58039216 0.60784314 0.60784314]\n",
      " [0.59215686 0.58823529 0.59215686 ... 0.34901961 0.36470588 0.47058824]\n",
      " ...\n",
      " [0.58823529 0.58823529 0.58823529 ... 0.5372549  0.54117647 0.59215686]\n",
      " [0.58431373 0.59607843 0.58039216 ... 0.54117647 0.50980392 0.58431373]\n",
      " [0.58431373 0.59607843 0.6        ... 0.30980392 0.39215686 0.23529412]]\n",
      "[3 3 3 ... 5 5 5]\n"
     ]
    }
   ],
   "source": [
    "X = data['arr_0']\n",
    "print(X)\n",
    "y = data['arr_1']\n",
    "print(y)"
   ]
  },
  {
   "cell_type": "code",
   "execution_count": 56,
   "id": "completed-mason",
   "metadata": {},
   "outputs": [],
   "source": [
    "X1 = X - X.mean(axis=0)"
   ]
  },
  {
   "cell_type": "code",
   "execution_count": 57,
   "id": "typical-gnome",
   "metadata": {},
   "outputs": [],
   "source": [
    "from sklearn.decomposition import PCA"
   ]
  },
  {
   "cell_type": "code",
   "execution_count": 58,
   "id": "mental-reduction",
   "metadata": {},
   "outputs": [],
   "source": [
    "pca = PCA(n_components = None, whiten=True,svd_solver='auto')"
   ]
  },
  {
   "cell_type": "code",
   "execution_count": 59,
   "id": "hawaiian-moscow",
   "metadata": {},
   "outputs": [],
   "source": [
    "x_pca = pca.fit_transform(X1)"
   ]
  },
  {
   "cell_type": "code",
   "execution_count": 60,
   "id": "fitted-pasta",
   "metadata": {},
   "outputs": [
    {
     "data": {
      "text/plain": [
       "(2586, 2586)"
      ]
     },
     "execution_count": 60,
     "metadata": {},
     "output_type": "execute_result"
    }
   ],
   "source": [
    "x_pca.shape"
   ]
  },
  {
   "cell_type": "code",
   "execution_count": 61,
   "id": "steady-discount",
   "metadata": {},
   "outputs": [],
   "source": [
    "eigen_ratio = pca.explained_variance_ratio_\n",
    "eigen_ratio_cum = np.cumsum(eigen_ratio)"
   ]
  },
  {
   "cell_type": "code",
   "execution_count": 62,
   "id": "oriental-lucas",
   "metadata": {},
   "outputs": [
    {
     "data": {
      "text/plain": [
       "Text(0, 0.5, 'Explained Variance')"
      ]
     },
     "execution_count": 62,
     "metadata": {},
     "output_type": "execute_result"
    },
    {
     "data": {
      "image/png": "[encoded data removed]",
      "text/plain": [
       "<Figure size 720x288 with 2 Axes>"
      ]
     },
     "metadata": {
      "needs_background": "light"
     },
     "output_type": "display_data"
    }
   ],
   "source": [
    "plt.figure(figsize=(10,4))\n",
    "plt.subplot(1,2,1)\n",
    "plt.plot(eigen_ratio,'*')\n",
    "plt.xlabel('number of components')\n",
    "plt.ylabel('Explained Variance')\n",
    "plt.subplot(1,2,2)\n",
    "plt.plot(eigen_ratio_cum,'*')\n",
    "plt.xlabel('number of components')\n",
    "plt.ylabel('Explained Variance')"
   ]
  },
  {
   "cell_type": "markdown",
   "id": "amazing-produce",
   "metadata": {},
   "source": [
    "Weźmiemy pod uwagę 250 komponentów, które tłumaczą około 95% wariancji."
   ]
  },
  {
   "cell_type": "code",
   "execution_count": 63,
   "id": "paperback-cancer",
   "metadata": {},
   "outputs": [],
   "source": [
    "pca_250 = PCA(n_components = 250, whiten=True,svd_solver='auto')"
   ]
  },
  {
   "cell_type": "code",
   "execution_count": 76,
   "id": "blessed-mobile",
   "metadata": {},
   "outputs": [],
   "source": [
    "x_pca_250 = pca_250.fit_transform(X1)"
   ]
  },
  {
   "cell_type": "code",
   "execution_count": 66,
   "id": "neither-stream",
   "metadata": {},
   "outputs": [
    {
     "data": {
      "text/plain": [
       "(2586, 250)"
      ]
     },
     "execution_count": 66,
     "metadata": {},
     "output_type": "execute_result"
    }
   ],
   "source": [
    "x_pca_250.shape"
   ]
  },
  {
   "cell_type": "code",
   "execution_count": 67,
   "id": "quick-chassis",
   "metadata": {},
   "outputs": [],
   "source": [
    "import pickle\n",
    "pickle.dump(pca_250, open('./model/pca_250.pickle','wb'))"
   ]
  },
  {
   "cell_type": "code",
   "execution_count": 68,
   "id": "superior-checklist",
   "metadata": {},
   "outputs": [],
   "source": [
    "x_pca_inv = pca_250.inverse_transform(x_pca_250)"
   ]
  },
  {
   "cell_type": "code",
   "execution_count": 69,
   "id": "collectible-gospel",
   "metadata": {},
   "outputs": [
    {
     "data": {
      "text/plain": [
       "(2586, 14400)"
      ]
     },
     "execution_count": 69,
     "metadata": {},
     "output_type": "execute_result"
    }
   ],
   "source": [
    "x_pca_inv.shape"
   ]
  },
  {
   "cell_type": "code",
   "execution_count": 70,
   "id": "offensive-manufacturer",
   "metadata": {},
   "outputs": [
    {
     "data": {
      "text/plain": [
       "(120, 120)"
      ]
     },
     "execution_count": 70,
     "metadata": {},
     "output_type": "execute_result"
    }
   ],
   "source": [
    "eig_img = x_pca_inv[0,:]\n",
    "eig_img = eig_img.reshape((120,120))\n",
    "eig_img.shape"
   ]
  },
  {
   "cell_type": "code",
   "execution_count": 71,
   "id": "crucial-rally",
   "metadata": {},
   "outputs": [
    {
     "data": {
      "text/plain": [
       "<matplotlib.image.AxesImage at 0x12b555780>"
      ]
     },
     "execution_count": 71,
     "metadata": {},
     "output_type": "execute_result"
    },
    {
     "data": {
      "image/png": "[encoded data removed]",
      "text/plain": [
       "<Figure size 432x288 with 1 Axes>"
      ]
     },
     "metadata": {
      "needs_background": "light"
     },
     "output_type": "display_data"
    }
   ],
   "source": [
    "plt.imshow(eig_img, cmap='gray')"
   ]
  },
  {
   "cell_type": "code",
   "execution_count": 75,
   "id": "willing-burlington",
   "metadata": {},
   "outputs": [],
   "source": [
    "np.savez('./data/data_pca_250_y_mean.pickle',x_pca_250,y,X.mean(axis=0))"
   ]
  }
 ],
 "metadata": {
  "kernelspec": {
   "display_name": "Python 3",
   "language": "python",
   "name": "python3"
  },
  "language_info": {
   "codemirror_mode": {
    "name": "ipython",
    "version": 3
   },
   "file_extension": ".py",
   "mimetype": "text/x-python",
   "name": "python",
   "nbconvert_exporter": "python",
   "pygments_lexer": "ipython3",
   "version": "3.6.12"
  }
 },
 "nbformat": 4,
 "nbformat_minor": 5
}
