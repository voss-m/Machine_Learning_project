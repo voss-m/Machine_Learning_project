{
 "cells": [
  {
   "cell_type": "code",
   "execution_count": 1,
   "id": "adjustable-commons",
   "metadata": {},
   "outputs": [],
   "source": [
    "import numpy as np\n",
    "import pandas as pd\n",
    "import matplotlib.pyplot as plt\n",
    "import sklearn\n",
    "import pickle\n",
    "import cv2\n",
    "%matplotlib inline"
   ]
  },
  {
   "cell_type": "code",
   "execution_count": 2,
   "id": "composed-scope",
   "metadata": {},
   "outputs": [
    {
     "name": "stdout",
     "output_type": "stream",
     "text": [
      "\u001b[31m008b9302d7.jpg\u001b[m\u001b[m* \u001b[31m2e97823330.jpg\u001b[m\u001b[m* \u001b[31m6489993103.jpg\u001b[m\u001b[m* \u001b[31m91a021b503.jpg\u001b[m\u001b[m* \u001b[31mbe25ade83d.jpg\u001b[m\u001b[m*\r\n",
      "\u001b[31m02d5e49f0b.jpg\u001b[m\u001b[m* \u001b[31m2ef8c691b6.jpg\u001b[m\u001b[m* \u001b[31m6c3e2d5ad5.jpg\u001b[m\u001b[m* \u001b[31m926d69a34a.jpg\u001b[m\u001b[m* \u001b[31mc338cab40a.jpg\u001b[m\u001b[m*\r\n",
      "\u001b[31m04bafd8bc9.jpg\u001b[m\u001b[m* \u001b[31m30d26d8b88.jpg\u001b[m\u001b[m* \u001b[31m6caef06b8a.jpg\u001b[m\u001b[m* \u001b[31m928f3eb756.jpg\u001b[m\u001b[m* \u001b[31mc43483879f.jpg\u001b[m\u001b[m*\r\n",
      "\u001b[31m05e48097ea.jpg\u001b[m\u001b[m* \u001b[31m32160404db.jpg\u001b[m\u001b[m* \u001b[31m6dd4acdd32.jpg\u001b[m\u001b[m* \u001b[31m9459c5c9d5.jpg\u001b[m\u001b[m* \u001b[31mc44682f2f4.jpg\u001b[m\u001b[m*\r\n",
      "\u001b[31m0694eefc1c.jpg\u001b[m\u001b[m* \u001b[31m334140f26a.jpg\u001b[m\u001b[m* \u001b[31m6e152a846d.jpg\u001b[m\u001b[m* \u001b[31m954b854f7f.jpg\u001b[m\u001b[m* \u001b[31mc5d6b5ae8f.jpg\u001b[m\u001b[m*\r\n",
      "\u001b[31m07c968846a.jpg\u001b[m\u001b[m* \u001b[31m38120bb8d1.jpg\u001b[m\u001b[m* \u001b[31m6e68dba278.jpg\u001b[m\u001b[m* \u001b[31m96ce890b24.jpg\u001b[m\u001b[m* \u001b[31mc91e0801d9.jpg\u001b[m\u001b[m*\r\n",
      "\u001b[31m09302d7670.jpg\u001b[m\u001b[m* \u001b[31m38c9e7f0c2.jpg\u001b[m\u001b[m* \u001b[31m6ef5597adb.jpg\u001b[m\u001b[m* \u001b[31m97a93c9fc3.jpg\u001b[m\u001b[m* \u001b[31mc94079aa7c.jpg\u001b[m\u001b[m*\r\n",
      "\u001b[31m0be6a7820d.jpg\u001b[m\u001b[m* \u001b[31m40711ce05a.jpg\u001b[m\u001b[m* \u001b[31m703fd107bf.jpg\u001b[m\u001b[m* \u001b[31m9890be4159.jpg\u001b[m\u001b[m* \u001b[31mcc8df47866.jpg\u001b[m\u001b[m*\r\n",
      "\u001b[31m0bfd1ce043.jpg\u001b[m\u001b[m* \u001b[31m42391c1b48.jpg\u001b[m\u001b[m* \u001b[31m747e2982b4.jpg\u001b[m\u001b[m* \u001b[31m9caa938970.jpg\u001b[m\u001b[m* \u001b[31mcd0e360e93.jpg\u001b[m\u001b[m*\r\n",
      "\u001b[31m0f2dd4b196.jpg\u001b[m\u001b[m* \u001b[31m448636e149.jpg\u001b[m\u001b[m* \u001b[31m75261eea0a.jpg\u001b[m\u001b[m* \u001b[31m9f6c2a757e.jpg\u001b[m\u001b[m* \u001b[31mce2ddf408d.jpg\u001b[m\u001b[m*\r\n",
      "\u001b[31m10031fdd72.jpg\u001b[m\u001b[m* \u001b[31m45d1b940c5.jpg\u001b[m\u001b[m* \u001b[31m75629a911b.jpg\u001b[m\u001b[m* \u001b[31ma0068ff791.jpg\u001b[m\u001b[m* \u001b[31md177df88df.jpg\u001b[m\u001b[m*\r\n",
      "\u001b[31m10c53edece.jpg\u001b[m\u001b[m* \u001b[31m476b7e4756.jpg\u001b[m\u001b[m* \u001b[31m76109ee8b4.jpg\u001b[m\u001b[m* \u001b[31ma057d861f6.jpg\u001b[m\u001b[m* \u001b[31md451e97c13.jpg\u001b[m\u001b[m*\r\n",
      "\u001b[31m11f01d09a3.jpg\u001b[m\u001b[m* \u001b[31m49ad1252d9.jpg\u001b[m\u001b[m* \u001b[31m7858678b09.jpg\u001b[m\u001b[m* \u001b[31ma283907add.jpg\u001b[m\u001b[m* \u001b[31md480a159db.jpg\u001b[m\u001b[m*\r\n",
      "\u001b[31m1287ac6172.jpg\u001b[m\u001b[m* \u001b[31m4be27706e3.jpg\u001b[m\u001b[m* \u001b[31m78b46f287e.jpg\u001b[m\u001b[m* \u001b[31ma2e718e06d.jpg\u001b[m\u001b[m* \u001b[31md651a1dadc.jpg\u001b[m\u001b[m*\r\n",
      "\u001b[31m12eb4c7864.jpg\u001b[m\u001b[m* \u001b[31m4e16cbc27e.jpg\u001b[m\u001b[m* \u001b[31m792724bad9.jpg\u001b[m\u001b[m* \u001b[31ma4d5032374.jpg\u001b[m\u001b[m* \u001b[31md6a3e5b35e.jpg\u001b[m\u001b[m*\r\n",
      "\u001b[31m149b8f88c1.jpg\u001b[m\u001b[m* \u001b[31m5152901b4f.jpg\u001b[m\u001b[m* \u001b[31m7a1b180782.jpg\u001b[m\u001b[m* \u001b[31maa67fb85e5.jpg\u001b[m\u001b[m* \u001b[31md88a584650.jpg\u001b[m\u001b[m*\r\n",
      "\u001b[31m16da499f5c.jpg\u001b[m\u001b[m* \u001b[31m55419867ad.jpg\u001b[m\u001b[m* \u001b[31m7e05912f40.jpg\u001b[m\u001b[m* \u001b[31mae2d271e22.jpg\u001b[m\u001b[m* \u001b[31md999db0d9b.jpg\u001b[m\u001b[m*\r\n",
      "\u001b[31m179454aecb.jpg\u001b[m\u001b[m* \u001b[31m56d99c9cc0.jpg\u001b[m\u001b[m* \u001b[31m7e348f107d.jpg\u001b[m\u001b[m* \u001b[31mae90ec8d06.jpg\u001b[m\u001b[m* \u001b[31mda3491ba72.jpg\u001b[m\u001b[m*\r\n",
      "\u001b[31m18269cd162.jpg\u001b[m\u001b[m* \u001b[31m574256017e.jpg\u001b[m\u001b[m* \u001b[31m837ac79f0f.jpg\u001b[m\u001b[m* \u001b[31mb07a3a2f4e.jpg\u001b[m\u001b[m* \u001b[31mdf3c336a8f.jpg\u001b[m\u001b[m*\r\n",
      "\u001b[31m196d73d37e.jpg\u001b[m\u001b[m* \u001b[31m5a952887cb.jpg\u001b[m\u001b[m* \u001b[31m84848e0298.jpg\u001b[m\u001b[m* \u001b[31mb0f6c82d11.jpg\u001b[m\u001b[m* \u001b[31me7245f775e.jpg\u001b[m\u001b[m*\r\n",
      "\u001b[31m1d4c28de2d.jpg\u001b[m\u001b[m* \u001b[31m5b711eaf9c.jpg\u001b[m\u001b[m* \u001b[31m8602d9b56d.jpg\u001b[m\u001b[m* \u001b[31mb19c74417b.jpg\u001b[m\u001b[m* \u001b[31meb304f772f.jpg\u001b[m\u001b[m*\r\n",
      "\u001b[31m1e81deb857.jpg\u001b[m\u001b[m* \u001b[31m5d0e637fb6.jpg\u001b[m\u001b[m* \u001b[31m8650e03313.jpg\u001b[m\u001b[m* \u001b[31mb2be4e34a3.jpg\u001b[m\u001b[m* \u001b[31mec628f8b4c.jpg\u001b[m\u001b[m*\r\n",
      "\u001b[31m21fbd59dba.jpg\u001b[m\u001b[m* \u001b[31m5eb4b8c8e9.jpg\u001b[m\u001b[m* \u001b[31m86686fa611.jpg\u001b[m\u001b[m* \u001b[31mb5d8bf3a1f.jpg\u001b[m\u001b[m* \u001b[31mf3da9b71d2.jpg\u001b[m\u001b[m*\r\n",
      "\u001b[31m22100f0ebb.jpg\u001b[m\u001b[m* \u001b[31m5ebb9e39f5.jpg\u001b[m\u001b[m* \u001b[31m86e4e454ba.jpg\u001b[m\u001b[m* \u001b[31mb7a58f1908.jpg\u001b[m\u001b[m* \u001b[31mf4196b2c0e.jpg\u001b[m\u001b[m*\r\n",
      "\u001b[31m229d8f9c45.jpg\u001b[m\u001b[m* \u001b[31m5ff095dfdc.jpg\u001b[m\u001b[m* \u001b[31m889e4153fb.jpg\u001b[m\u001b[m* \u001b[31mb86ad89524.jpg\u001b[m\u001b[m* \u001b[31mf49133582f.jpg\u001b[m\u001b[m*\r\n",
      "\u001b[31m283a86921d.jpg\u001b[m\u001b[m* \u001b[31m60cd929bf9.jpg\u001b[m\u001b[m* \u001b[31m89c303b5ac.jpg\u001b[m\u001b[m* \u001b[31mba0766f729.jpg\u001b[m\u001b[m* \u001b[31mf5ae3f7184.jpg\u001b[m\u001b[m*\r\n",
      "\u001b[31m2956b8d6fa.jpg\u001b[m\u001b[m* \u001b[31m612ee8b257.jpg\u001b[m\u001b[m* \u001b[31m89c89e7624.jpg\u001b[m\u001b[m* \u001b[31mba5c2ebaa0.jpg\u001b[m\u001b[m* \u001b[31mf8431ae166.jpg\u001b[m\u001b[m*\r\n",
      "\u001b[31m299537f314.jpg\u001b[m\u001b[m* \u001b[31m618f4eed3f.jpg\u001b[m\u001b[m* \u001b[31m8a6d1be89c.jpg\u001b[m\u001b[m* \u001b[31mba7e617226.jpg\u001b[m\u001b[m* \u001b[31mfba6341893.jpg\u001b[m\u001b[m*\r\n",
      "\u001b[31m29a69ed31c.jpg\u001b[m\u001b[m* \u001b[31m62cc319e10.jpg\u001b[m\u001b[m* \u001b[31m8bf24f2f7b.jpg\u001b[m\u001b[m* \u001b[31mbac55a265f.jpg\u001b[m\u001b[m* \u001b[31mfcf5eb7dd5.jpg\u001b[m\u001b[m*\r\n",
      "\u001b[31m2a7cfb2bff.jpg\u001b[m\u001b[m* \u001b[31m62e1d3a96a.jpg\u001b[m\u001b[m* \u001b[31m8e4fe87252.jpg\u001b[m\u001b[m* \u001b[31mbc20f477fb.jpg\u001b[m\u001b[m* \u001b[31mfe8fbd8783.jpg\u001b[m\u001b[m*\r\n",
      "\u001b[31m2d2ec5d5c2.jpg\u001b[m\u001b[m* \u001b[31m6313a1ac20.jpg\u001b[m\u001b[m* \u001b[31m917ca71182.jpg\u001b[m\u001b[m* \u001b[31mbc2ca6d318.jpg\u001b[m\u001b[m*\r\n"
     ]
    }
   ],
   "source": [
    "ls 'Donald Tusk Cropped'/"
   ]
  },
  {
   "cell_type": "code",
   "execution_count": 2,
   "id": "convenient-atlantic",
   "metadata": {},
   "outputs": [],
   "source": [
    "mean = pickle.load(open('./model/mean_preprocess.pickle','rb'))\n",
    "model_svm = pickle.load(open('./model/model_svm.pickle','rb'))\n",
    "model_pca = pickle.load(open('./model/pca_50.pickle','rb'))"
   ]
  },
  {
   "cell_type": "code",
   "execution_count": 10,
   "id": "surprising-webmaster",
   "metadata": {},
   "outputs": [],
   "source": [
    "politician_pre = ['Bosak','Tusk']\n",
    "font = cv2.FONT_HERSHEY_SIMPLEX"
   ]
  },
  {
   "cell_type": "code",
   "execution_count": 4,
   "id": "broadband-minneapolis",
   "metadata": {},
   "outputs": [
    {
     "data": {
      "text/plain": [
       "(14400,)"
      ]
     },
     "execution_count": 4,
     "metadata": {},
     "output_type": "execute_result"
    }
   ],
   "source": [
    "mean.shape"
   ]
  },
  {
   "cell_type": "code",
   "execution_count": 22,
   "id": "sharp-undergraduate",
   "metadata": {},
   "outputs": [],
   "source": [
    "#test data\n",
    "\n",
    "def pipeline_model(img, color='bgr'):\n",
    "    color = 'bgr'\n",
    "#to gray\n",
    "    if color == 'bgr':\n",
    "        gray = cv2.cvtColor(img, cv2.COLOR_BGR2GRAY)\n",
    "    else:\n",
    "        gray = cv2.cvtColor(img, cv2.COLOR_RGB2GRAY)\n",
    "\n",
    "#resize image\n",
    "    if gray.shape[1] > 100:\n",
    "        gray_resize = cv2.resize(gray,(120,120), cv2.INTER_AREA)\n",
    "    else:\n",
    "        gray_resize = cv2.resize(gray,(120,120), cv2.INTER_CUBIC)\n",
    "#flattening\n",
    "    gray_reshape = gray_resize.reshape(1,14400)\n",
    "#subtract with mean\n",
    "\n",
    "    gray_mean = gray_reshape - mean\n",
    "#get eigne image\n",
    "    eigen_image = model_pca.transform(gray_mean)\n",
    "#pass to ML model (SVM)\n",
    "    results = model_svm.predict_proba(eigen_image)[0]\n",
    "\n",
    "\n",
    "    predict = results.argmax() #0 or 1\n",
    "    score = results[predict]\n",
    "    print(score)\n",
    "    if score >=0.6:\n",
    "        return 'Tusk'\n",
    "    else:\n",
    "        return 'Bosak'\n",
    "#cv2.putText(img,font,1,(0,255,0),2)"
   ]
  },
  {
   "cell_type": "code",
   "execution_count": 23,
   "id": "connected-bones",
   "metadata": {},
   "outputs": [
    {
     "name": "stdout",
     "output_type": "stream",
     "text": [
      "0.9999998999999902\n"
     ]
    },
    {
     "data": {
      "text/plain": [
       "'Tusk'"
      ]
     },
     "execution_count": 23,
     "metadata": {},
     "output_type": "execute_result"
    },
    {
     "data": {
      "image/png": "[encoded data removed]",
      "text/plain": [
       "<Figure size 432x288 with 1 Axes>"
      ]
     },
     "metadata": {
      "needs_background": "light"
     },
     "output_type": "display_data"
    }
   ],
   "source": [
    "test_data_path = './Donald Tusk Cropped/6caef06b8a.jpg'\n",
    "\n",
    "#read image\n",
    "img = cv2.imread(test_data_path)\n",
    "plt.imshow(img)\n",
    "pipeline_model(img)"
   ]
  }
 ],
 "metadata": {
  "kernelspec": {
   "display_name": "Python 3",
   "language": "python",
   "name": "python3"
  },
  "language_info": {
   "codemirror_mode": {
    "name": "ipython",
    "version": 3
   },
   "file_extension": ".py",
   "mimetype": "text/x-python",
   "name": "python",
   "nbconvert_exporter": "python",
   "pygments_lexer": "ipython3",
   "version": "3.6.12"
  }
 },
 "nbformat": 4,
 "nbformat_minor": 5
}
